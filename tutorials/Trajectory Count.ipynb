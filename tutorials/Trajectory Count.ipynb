{
 "cells": [
  {
   "cell_type": "code",
   "execution_count": 1,
   "id": "a8938634",
   "metadata": {},
   "outputs": [],
   "source": [
    "import ffsim\n",
    "import matplotlib.pyplot as plt\n",
    "import numpy as np\n",
    "from qiskit.circuit import QuantumCircuit, QuantumRegister\n",
    "\n",
    "from extended_matchgate_simulator.exact import exact_calculation\n",
    "from extended_matchgate_simulator.raw_estimation import raw_estimate\n",
    "from extended_matchgate_simulator.utils import (\n",
    "    calculate_trajectory_count,\n",
    "    extract_circuit_data,\n",
    "    ucj_to_compatible,\n",
    ")"
   ]
  },
  {
   "cell_type": "code",
   "execution_count": 2,
   "id": "537f91c6",
   "metadata": {},
   "outputs": [],
   "source": [
    "norb = 16\n",
    "nelec = (norb // 4, norb // 4)\n",
    "pairs_aa = [(p, p + 1) for p in range(norb - 1)]\n",
    "pairs_ab = [(p, p) for p in range(norb)]\n",
    "\n",
    "ucj_op = ffsim.random.random_ucj_op_spin_balanced(\n",
    "    norb,\n",
    "    n_reps=1,\n",
    "    interaction_pairs=(pairs_aa, pairs_ab),\n",
    "    with_final_orbital_rotation=True,\n",
    "    diag_coulomb_scale=1e-1,\n",
    "    diag_coulomb_normal=True,\n",
    ")\n",
    "\n",
    "qubits = QuantumRegister(2 * norb, name=\"q\")\n",
    "circuit = QuantumCircuit(qubits)\n",
    "circuit.append(ffsim.qiskit.PrepareHartreeFockJW(norb, nelec), qubits)\n",
    "circuit.append(ffsim.qiskit.UCJOpSpinBalancedJW(ucj_op), qubits)\n",
    "circuit = ucj_to_compatible(circuit)\n",
    "circuit = ffsim.qiskit.PRE_INIT.run(circuit)"
   ]
  },
  {
   "cell_type": "code",
   "execution_count": 3,
   "id": "cbaa786d",
   "metadata": {},
   "outputs": [],
   "source": [
    "reference_vec = ffsim.apply_unitary(\n",
    "    ffsim.hartree_fock_state(norb, nelec), ucj_op, norb=norb, nelec=nelec\n",
    ")\n",
    "exact_vec = ffsim.qiskit.final_state_vector(circuit, norb=norb, nelec=nelec)\n",
    "np.testing.assert_allclose(exact_vec, reference_vec)\n",
    "exact_probs = np.abs(exact_vec) ** 2"
   ]
  },
  {
   "cell_type": "code",
   "execution_count": 4,
   "id": "1864615b",
   "metadata": {},
   "outputs": [],
   "source": [
    "bitstrings = ffsim.addresses_to_strings(\n",
    "    range(ffsim.dim(norb, nelec)), norb=norb, nelec=nelec\n",
    ")\n",
    "# probs = exact_calculation(circuit=circuit, outcome_states=bitstrings)\n",
    "# np.testing.assert_allclose(probs, exact_probs)"
   ]
  },
  {
   "cell_type": "code",
   "execution_count": 5,
   "id": "cd1bca99",
   "metadata": {},
   "outputs": [
    {
     "data": {
      "text/plain": [
       "3.9289390677992326"
      ]
     },
     "execution_count": 5,
     "metadata": {},
     "output_type": "execute_result"
    }
   ],
   "source": [
    "circuit_data = extract_circuit_data(circuit)\n",
    "(\n",
    "    num_qubits,\n",
    "    extent,\n",
    "    negative_mask,\n",
    "    normalized_angles,\n",
    "    initial_state,\n",
    "    gate_types,\n",
    "    params,\n",
    "    qubits,\n",
    "    orb_indices,\n",
    "    orb_mats,\n",
    ") = circuit_data\n",
    "\n",
    "extent"
   ]
  },
  {
   "cell_type": "code",
   "execution_count": 6,
   "id": "228314f8",
   "metadata": {},
   "outputs": [
    {
     "data": {
      "text/plain": [
       "336790473977386391044096"
      ]
     },
     "execution_count": 6,
     "metadata": {},
     "output_type": "execute_result"
    }
   ],
   "source": [
    "bitstring = bitstrings[0]\n",
    "exact_prob = exact_probs[0]\n",
    "epsilon = 1e-2 * exact_prob\n",
    "delta = 1\n",
    "p = 1\n",
    "n_traj_theory = calculate_trajectory_count(epsilon, delta, extent, p)\n",
    "n_traj_theory"
   ]
  },
  {
   "cell_type": "code",
   "execution_count": 7,
   "id": "ae0af6f4",
   "metadata": {},
   "outputs": [],
   "source": [
    "n_traj_range = [100, 1_000, 10_000, 100_000, 1_000_000, 10_000_000]\n",
    "estimates = []\n",
    "errors = []\n",
    "for n_traj in n_traj_range:\n",
    "    raw_est = raw_estimate(\n",
    "        circuit=circuit, outcome_states=bitstring, trajectory_count=n_traj\n",
    "    )\n",
    "    estimates.append(raw_est)\n",
    "    errors.append(abs(raw_est - exact_prob))"
   ]
  },
  {
   "cell_type": "code",
   "execution_count": 8,
   "id": "fb5ba9cf",
   "metadata": {},
   "outputs": [
    {
     "data": {
      "text/plain": [
       "Text(0, 0.5, 'Error')"
      ]
     },
     "execution_count": 8,
     "metadata": {},
     "output_type": "execute_result"
    },
    {
     "data": {
      "image/png": "[encoded data removed]",
      "text/plain": [
       "<Figure size 640x480 with 1 Axes>"
      ]
     },
     "metadata": {},
     "output_type": "display_data"
    }
   ],
   "source": [
    "fig, ax = plt.subplots(1, 1)\n",
    "\n",
    "ax.plot(n_traj_range, errors, \"o--\")\n",
    "ax.axhline(epsilon, linestyle=\"--\", color=\"gray\")\n",
    "ax.axvline(n_traj_theory, linestyle=\"--\", color=\"black\")\n",
    "ax.set_xscale(\"log\")\n",
    "ax.set_yscale(\"log\")\n",
    "ax.set_xlabel(\"Trajectory count\")\n",
    "ax.set_ylabel(\"Error\")"
   ]
  }
 ],
 "metadata": {
  "kernelspec": {
   "display_name": ".venv",
   "language": "python",
   "name": "python3"
  },
  "language_info": {
   "codemirror_mode": {
    "name": "ipython",
    "version": 3
   },
   "file_extension": ".py",
   "mimetype": "text/x-python",
   "name": "python",
   "nbconvert_exporter": "python",
   "pygments_lexer": "ipython3",
   "version": "3.13.3"
  }
 },
 "nbformat": 4,
 "nbformat_minor": 5
}
