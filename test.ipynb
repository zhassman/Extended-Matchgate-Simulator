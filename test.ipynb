{
 "cells": [
  {
   "cell_type": "code",
   "execution_count": 308,
   "id": "4e629f82",
   "metadata": {},
   "outputs": [],
   "source": [
    "from qiskit.circuit import QuantumCircuit, QuantumRegister\n",
    "import ffsim\n",
    "import math\n",
    "import numpy as np\n",
    "from passive_extended_matchgate_simulator.raw_estimation import raw_estimate\n",
    "from passive_extended_matchgate_simulator.utils import ucj_to_compatible, ucj_to_compatible_fully_reduced, calculate_trajectory_count, extract_circuit_data\n",
    "\n",
    "norb = 3\n",
    "nelec = (2, 2)\n",
    "alpha_alpha_indices = [(p, p + 1) for p in range(norb - 1)]\n",
    "alpha_beta_indices = [(p, p) for p in range(norb)]\n",
    "qubits = QuantumRegister(2 * norb)\n",
    "circuit = QuantumCircuit(qubits)\n",
    "ucj_op = ffsim.random.random_ucj_op_spin_balanced(norb, \n",
    "                                                  interaction_pairs=(alpha_alpha_indices, alpha_beta_indices),\n",
    "                                                  with_final_orbital_rotation=False,\n",
    "                                                  diag_coulomb_mean=math.pi, \n",
    "                                                  diag_coulomb_scale=.1, \n",
    "                                                  diag_coulomb_normal=True)\n",
    "circuit.append(ffsim.qiskit.PrepareHartreeFockJW(norb, nelec), qubits)\n",
    "circuit.append(ffsim.qiskit.UCJOpSpinBalancedJW(ucj_op), qubits)\n",
    "\n",
    "statevec = ffsim.qiskit.final_state_vector(circuit)\n",
    "ffsim_probs = np.abs(statevec.vec)**2\n",
    "bitstrings = ffsim.addresses_to_strings(range(len(ffsim_probs)), norb, nelec)\n",
    "ffsim_p_and_b = list(zip(ffsim_probs, bitstrings))\n",
    "\n",
    "epsilon = .1\n",
    "delta = .01\n",
    "p = 1\n",
    "\n",
    "compatible = ucj_to_compatible_fully_reduced(circuit)"
   ]
  },
  {
   "cell_type": "code",
   "execution_count": 309,
   "id": "ecdfe8ad",
   "metadata": {},
   "outputs": [
    {
     "data": {
      "text/plain": [
       "[(np.float64(0.31922917493662883), 27),\n",
       " (np.float64(0.09835597335880929), 43),\n",
       " (np.float64(0.09588104188035901), 51),\n",
       " (np.float64(0.09835597335880938), 29),\n",
       " (np.float64(0.25348637525113665), 45),\n",
       " (np.float64(0.013640017878079886), 53),\n",
       " (np.float64(0.09588104188035901), 30),\n",
       " (np.float64(0.013640017878079886), 46),\n",
       " (np.float64(0.011530383577740777), 54)]"
      ]
     },
     "execution_count": 309,
     "metadata": {},
     "output_type": "execute_result"
    }
   ],
   "source": [
    "ffsim_p_and_b"
   ]
  },
  {
   "cell_type": "code",
   "execution_count": 310,
   "id": "761903e9",
   "metadata": {},
   "outputs": [
    {
     "data": {
      "text/plain": [
       "[0.3286350435323587,\n",
       " 0.09884398093610709,\n",
       " 0.09479306076426823,\n",
       " 0.10155429083446238,\n",
       " 0.25000654431926683,\n",
       " 0.013906097036009568,\n",
       " 0.09454453051353827,\n",
       " 0.014158949369657593,\n",
       " 0.011890827985815663]"
      ]
     },
     "execution_count": 310,
     "metadata": {},
     "output_type": "execute_result"
    }
   ],
   "source": [
    "raw_estimate_values = []\n",
    "for b in bitstrings:\n",
    "    raw_estimate_values.append(raw_estimate(circuit=compatible,outcome_state=b, epsilon=epsilon, delta=delta, p=p))\n",
    "raw_estimate_values"
   ]
  },
  {
   "cell_type": "code",
   "execution_count": 311,
   "id": "4d803afc",
   "metadata": {},
   "outputs": [
    {
     "name": "stdout",
     "output_type": "stream",
     "text": [
      "max difference 0.009405868595729838\n",
      "trajectory count 925942\n"
     ]
    },
    {
     "data": {
      "text/plain": [
       "array([0.00940587, 0.00048801, 0.00108798, 0.00319832, 0.00347983,\n",
       "       0.00026608, 0.00133651, 0.00051893, 0.00036044])"
      ]
     },
     "execution_count": 311,
     "metadata": {},
     "output_type": "execute_result"
    }
   ],
   "source": [
    "diff = np.abs(ffsim_probs - raw_estimate_values)\n",
    "print(\"max difference\", max(diff))\n",
    "data = extract_circuit_data(compatible)\n",
    "extent = data[0]\n",
    "t = calculate_trajectory_count(epsilon, delta, extent, p)\n",
    "print(\"trajectory count\", t)\n",
    "diff\n"
   ]
  }
 ],
 "metadata": {
  "kernelspec": {
   "display_name": "envcafqa",
   "language": "python",
   "name": "python3"
  },
  "language_info": {
   "codemirror_mode": {
    "name": "ipython",
    "version": 3
   },
   "file_extension": ".py",
   "mimetype": "text/x-python",
   "name": "python",
   "nbconvert_exporter": "python",
   "pygments_lexer": "ipython3",
   "version": "3.12.2"
  }
 },
 "nbformat": 4,
 "nbformat_minor": 5
}
