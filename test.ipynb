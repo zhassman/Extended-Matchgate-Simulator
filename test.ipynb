{
 "cells": [
  {
   "cell_type": "code",
   "execution_count": 204,
   "id": "4e629f82",
   "metadata": {},
   "outputs": [],
   "source": [
    "from qiskit.circuit import QuantumCircuit, QuantumRegister\n",
    "import ffsim\n",
    "import math\n",
    "import numpy as np\n",
    "from passive_extended_matchgate_simulator.raw_estimation import raw_estimate\n",
    "from passive_extended_matchgate_simulator.utils import ucj_to_compatible, ucj_to_compatible_fully_reduced, calculate_trajectory_count, extract_circuit_data\n",
    "\n",
    "norb = 3\n",
    "nelec = (2, 2)\n",
    "alpha_alpha_indices = [(p, p + 1) for p in range(norb - 1)]\n",
    "alpha_beta_indices = [(p, p) for p in range(norb)]\n",
    "qubits = QuantumRegister(2 * norb)\n",
    "circuit = QuantumCircuit(qubits)\n",
    "ucj_op = ffsim.random.random_ucj_op_spin_balanced(norb, \n",
    "                                                  interaction_pairs=(alpha_alpha_indices, alpha_beta_indices),\n",
    "                                                  with_final_orbital_rotation=False,\n",
    "                                                  diag_coulomb_mean=math.pi, \n",
    "                                                  diag_coulomb_scale=.1, \n",
    "                                                  diag_coulomb_normal=True)\n",
    "circuit.append(ffsim.qiskit.PrepareHartreeFockJW(norb, nelec), qubits)\n",
    "circuit.append(ffsim.qiskit.UCJOpSpinBalancedJW(ucj_op), qubits)\n",
    "\n",
    "statevec = ffsim.qiskit.final_state_vector(circuit)\n",
    "ffsim_probs = np.abs(statevec.vec)**2\n",
    "bitstrings = ffsim.addresses_to_strings(range(len(ffsim_probs)), norb, nelec)\n",
    "ffsim_p_and_b = list(zip(ffsim_probs, bitstrings))\n",
    "\n",
    "epsilon = .1\n",
    "delta = .01\n",
    "p = 1\n",
    "\n",
    "compatible = ucj_to_compatible_fully_reduced(circuit)"
   ]
  },
  {
   "cell_type": "code",
   "execution_count": 205,
   "id": "ecdfe8ad",
   "metadata": {},
   "outputs": [
    {
     "data": {
      "text/plain": [
       "[(np.float64(0.6442219119696962), 27),\n",
       " (np.float64(0.022762394851997304), 43),\n",
       " (np.float64(0.03473879384812939), 51),\n",
       " (np.float64(0.022762394851997297), 29),\n",
       " (np.float64(0.14485083441896876), 45),\n",
       " (np.float64(0.011151091600629656), 53),\n",
       " (np.float64(0.0347387938481294), 30),\n",
       " (np.float64(0.011151091600629673), 46),\n",
       " (np.float64(0.07362269300982753), 54)]"
      ]
     },
     "execution_count": 205,
     "metadata": {},
     "output_type": "execute_result"
    }
   ],
   "source": [
    "ffsim_p_and_b"
   ]
  },
  {
   "cell_type": "code",
   "execution_count": 206,
   "id": "761903e9",
   "metadata": {},
   "outputs": [
    {
     "data": {
      "text/plain": [
       "[0.6459155674078316,\n",
       " 0.023202671685870948,\n",
       " 0.033110257898519686,\n",
       " 0.022653542295743054,\n",
       " 0.1426189878095225,\n",
       " 0.01029127995516482,\n",
       " 0.03407877553949969,\n",
       " 0.01106443726654977,\n",
       " 0.07367986081048011]"
      ]
     },
     "execution_count": 206,
     "metadata": {},
     "output_type": "execute_result"
    }
   ],
   "source": [
    "raw_estimate_values = []\n",
    "for b in bitstrings:\n",
    "    raw_estimate_values.append(raw_estimate(circuit=compatible,outcome_state=b, epsilon=epsilon, delta=delta, p=p))\n",
    "raw_estimate_values"
   ]
  },
  {
   "cell_type": "code",
   "execution_count": 207,
   "id": "4d803afc",
   "metadata": {},
   "outputs": [
    {
     "name": "stdout",
     "output_type": "stream",
     "text": [
      "max difference 0.002231846609446253\n",
      "trajectory count 921069\n"
     ]
    },
    {
     "data": {
      "text/plain": [
       "array([1.69365544e-03, 4.40276834e-04, 1.62853595e-03, 1.08852556e-04,\n",
       "       2.23184661e-03, 8.59811645e-04, 6.60018309e-04, 8.66543341e-05,\n",
       "       5.71678007e-05])"
      ]
     },
     "execution_count": 207,
     "metadata": {},
     "output_type": "execute_result"
    }
   ],
   "source": [
    "diff = np.abs(ffsim_probs - raw_estimate_values)\n",
    "print(\"max difference\", max(diff))\n",
    "data = extract_circuit_data(compatible)\n",
    "extent = data[0]\n",
    "t = calculate_trajectory_count(epsilon, delta, extent, p)\n",
    "print(\"trajectory count\", t)\n",
    "diff\n"
   ]
  }
 ],
 "metadata": {
  "kernelspec": {
   "display_name": "envcafqa",
   "language": "python",
   "name": "python3"
  },
  "language_info": {
   "codemirror_mode": {
    "name": "ipython",
    "version": 3
   },
   "file_extension": ".py",
   "mimetype": "text/x-python",
   "name": "python",
   "nbconvert_exporter": "python",
   "pygments_lexer": "ipython3",
   "version": "3.12.2"
  }
 },
 "nbformat": 4,
 "nbformat_minor": 5
}
