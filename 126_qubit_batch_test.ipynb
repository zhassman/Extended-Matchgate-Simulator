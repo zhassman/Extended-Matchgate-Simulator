{
 "cells": [
  {
   "cell_type": "code",
   "execution_count": 1,
   "id": "8720d57e-a8f9-4b67-88fe-d8bb3e1924e2",
   "metadata": {},
   "outputs": [],
   "source": [
    "import numpy as np\n",
    "from numpy.testing import assert_allclose\n",
    "import time\n",
    "from passive_extended_matchgate_simulator.raw_estimation import raw_estimate\n",
    "from passive_extended_matchgate_simulator.utils import (ucj_to_compatible, \n",
    "                                                        ucj_to_compatible_fully_reduced, \n",
    "                                                        get_bitstrings_and_probs, \n",
    "                                                        make_parameterized_controlled_phase_circuit,\n",
    "                                                        extract_circuit_data)\n",
    "\n",
    "mean, var = 0, .00001\n",
    "epsilon, delta, p = .1, .01, 1\n",
    "norb, nelec = 63, (1,1)\n",
    "\n",
    "circuit = make_parameterized_controlled_phase_circuit(norb, nelec, mean, var, reduced_interaction=True)\n",
    "bitstrings, exact_probs = get_bitstrings_and_probs(circuit, norb, nelec)\n",
    "bitstrings = bitstrings[:2]\n",
    "exact_probs = exact_probs[:2]"
   ]
  },
  {
   "cell_type": "code",
   "execution_count": 2,
   "id": "1d3c0c4c-0841-41b4-8cd1-5d4b6ce44458",
   "metadata": {},
   "outputs": [
    {
     "name": "stdout",
     "output_type": "stream",
     "text": [
      "time: 3.7313794589717872\n"
     ]
    }
   ],
   "source": [
    "compatible = ucj_to_compatible(circuit)\n",
    "t1 = time.perf_counter()\n",
    "probs_compatible = raw_estimate(circuit=compatible,\n",
    "                               outcome_state=bitstrings,\n",
    "                               epsilon=epsilon, delta=delta, p=p)\n",
    "t2 = time.perf_counter()\n",
    "assert_allclose(probs_compatible, exact_probs, rtol=0, atol=0.05)\n",
    "print('time:', t2 - t1)"
   ]
  },
  {
   "cell_type": "code",
   "execution_count": 3,
   "id": "24af7689-0cde-4d9b-a32d-d3fb6e6fdf97",
   "metadata": {},
   "outputs": [
    {
     "name": "stdout",
     "output_type": "stream",
     "text": [
      "time 26.396665708045475\n"
     ]
    }
   ],
   "source": [
    "compatible_fully_reduced = ucj_to_compatible_fully_reduced(circuit)\n",
    "t1 = time.perf_counter()\n",
    "probs_compatible_fully_reduced = raw_estimate(circuit=compatible_fully_reduced,\n",
    "                               outcome_state=bitstrings,\n",
    "                               epsilon=epsilon, delta=delta, p=p)\n",
    "t2 = time.perf_counter()\n",
    "assert_allclose(probs_compatible_fully_reduced, exact_probs, rtol=0, atol=0.05)\n",
    "print('time', t2 - t1)"
   ]
  },
  {
   "cell_type": "code",
   "execution_count": 4,
   "id": "d321dcea-dd5c-421a-b677-1aca6acefe3c",
   "metadata": {},
   "outputs": [
    {
     "name": "stdout",
     "output_type": "stream",
     "text": [
      "compatible extent 1.0456975716625845\n"
     ]
    }
   ],
   "source": [
    "data = extract_circuit_data(compatible)\n",
    "extent = data[1]\n",
    "print('compatible extent', extent)\n",
    "data_reduced = extract_circuit_data(compatible)\n",
    "extent_reduced = data[1]\n",
    "assert extent == extent_reduced"
   ]
  },
  {
   "cell_type": "code",
   "execution_count": 5,
   "id": "da1d54c5-a7e7-4bbf-9c6e-6b666ac776de",
   "metadata": {},
   "outputs": [
    {
     "name": "stdout",
     "output_type": "stream",
     "text": [
      "max compatible difference 0.0001913641557900192\n",
      "max compatible reduced difference 0.002888925666209685\n"
     ]
    }
   ],
   "source": [
    "print('max compatible difference', max(abs(np.array(probs_compatible) - np.array(exact_probs))))\n",
    "print('max compatible reduced difference', max(abs(np.array(probs_compatible_fully_reduced) - np.array(exact_probs))))"
   ]
  }
 ],
 "metadata": {
  "kernelspec": {
   "display_name": "Python 3 (ipykernel)",
   "language": "python",
   "name": "python3"
  },
  "language_info": {
   "codemirror_mode": {
    "name": "ipython",
    "version": 3
   },
   "file_extension": ".py",
   "mimetype": "text/x-python",
   "name": "python",
   "nbconvert_exporter": "python",
   "pygments_lexer": "ipython3",
   "version": "3.12.2"
  }
 },
 "nbformat": 4,
 "nbformat_minor": 5
}
