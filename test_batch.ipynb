{
 "cells": [
  {
   "cell_type": "code",
   "execution_count": 1,
   "id": "f17284a8",
   "metadata": {},
   "outputs": [],
   "source": [
    "import numpy as np\n",
    "from numpy.testing import assert_allclose\n",
    "import time\n",
    "from passive_extended_matchgate_simulator.raw_estimation import raw_estimate\n",
    "from passive_extended_matchgate_simulator.utils import (ucj_to_compatible, \n",
    "                                                        ucj_to_compatible_fully_reduced, \n",
    "                                                        get_bitstrings_and_probs, \n",
    "                                                        make_parameterized_controlled_phase_circuit,\n",
    "                                                        extract_circuit_data)\n",
    "\n",
    "mean, var = 0, .1\n",
    "epsilon, delta, p = 10, .01, 1\n",
    "norb, nelec = 3, (1,1)\n",
    "\n",
    "circuit = make_parameterized_controlled_phase_circuit(norb, nelec, mean, var, reduced_interaction=False)\n",
    "bitstrings, exact_probs = get_bitstrings_and_probs(circuit, norb, nelec)\n",
    "bitstrings = list(bitstrings) * 100000\n",
    "exact_probs = list(exact_probs) * 100000"
   ]
  },
  {
   "cell_type": "code",
   "execution_count": 2,
   "id": "025d30ef-a0b2-4a2f-a1c0-8e193523e613",
   "metadata": {},
   "outputs": [
    {
     "name": "stdout",
     "output_type": "stream",
     "text": [
      "trajectory count: 17\n",
      "time: 2.1366569160018116\n"
     ]
    }
   ],
   "source": [
    "compatible = ucj_to_compatible(circuit)\n",
    "t1 = time.perf_counter()\n",
    "probs_compatible = raw_estimate(circuit=compatible,\n",
    "                               outcome_state=bitstrings,\n",
    "                               epsilon=epsilon, delta=delta, p=p)\n",
    "t2 = time.perf_counter()\n",
    "# assert_allclose(probs_compatible, exact_probs, rtol=0, atol=0.05)\n",
    "print('time:', t2 - t1)"
   ]
  },
  {
   "cell_type": "code",
   "execution_count": 3,
   "id": "51018cd5-c2e2-4a55-af9f-ea9d43535eed",
   "metadata": {},
   "outputs": [
    {
     "name": "stdout",
     "output_type": "stream",
     "text": [
      "trajectory count: 17\n",
      "time 2.534316083008889\n"
     ]
    }
   ],
   "source": [
    "compatible_fully_reduced = ucj_to_compatible_fully_reduced(circuit)\n",
    "t1 = time.perf_counter()\n",
    "probs_compatible_fully_reduced = raw_estimate(circuit=compatible_fully_reduced,\n",
    "                               outcome_state=bitstrings,\n",
    "                               epsilon=epsilon, delta=delta, p=p)\n",
    "t2 = time.perf_counter()\n",
    "# assert_allclose(probs_compatible_fully_reduced, exact_probs, rtol=0, atol=0.05)\n",
    "print('time', t2 - t1)"
   ]
  },
  {
   "cell_type": "code",
   "execution_count": 4,
   "id": "ba6ca6bf-000c-40ea-9be8-56abad0839dd",
   "metadata": {},
   "outputs": [
    {
     "name": "stdout",
     "output_type": "stream",
     "text": [
      "compatible extent 2.103194640365287\n"
     ]
    }
   ],
   "source": [
    "data = extract_circuit_data(compatible)\n",
    "extent = data[1]\n",
    "print('compatible extent', extent)\n",
    "data_reduced = extract_circuit_data(compatible)\n",
    "extent_reduced = data[1]\n",
    "assert extent == extent_reduced"
   ]
  },
  {
   "cell_type": "code",
   "execution_count": 5,
   "id": "2864dd86-df8f-4383-9771-6f6b35331d78",
   "metadata": {},
   "outputs": [
    {
     "name": "stdout",
     "output_type": "stream",
     "text": [
      "max compatible difference 1.0775331056444983\n",
      "max compatible reduced difference 1.0775331056444966\n"
     ]
    }
   ],
   "source": [
    "print('max compatible difference', max(abs(np.array(probs_compatible) - np.array(exact_probs))))\n",
    "print('max compatible reduced difference', max(abs(np.array(probs_compatible_fully_reduced) - np.array(exact_probs))))"
   ]
  }
 ],
 "metadata": {
  "kernelspec": {
   "display_name": "Python 3 (ipykernel)",
   "language": "python",
   "name": "python3"
  },
  "language_info": {
   "codemirror_mode": {
    "name": "ipython",
    "version": 3
   },
   "file_extension": ".py",
   "mimetype": "text/x-python",
   "name": "python",
   "nbconvert_exporter": "python",
   "pygments_lexer": "ipython3",
   "version": "3.12.2"
  }
 },
 "nbformat": 4,
 "nbformat_minor": 5
}
